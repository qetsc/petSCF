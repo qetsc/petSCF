{
 "cells": [
  {
   "cell_type": "markdown",
   "metadata": {},
   "source": [
    "Code is available here https://github.com/qetsc/petSCF\n",
    "# Installation\n",
    "* `git clone https://github.com/qetsc/petSCF`\n",
    "* `pip3 install -r requirements.txt` "
   ]
  },
  {
   "cell_type": "code",
   "execution_count": 1,
   "metadata": {},
   "outputs": [
    {
     "name": "stdout",
     "output_type": "stream",
     "text": [
      "sklearn.cluster not found.\n",
      "-bintype 3, can not be used\n"
     ]
    }
   ],
   "source": [
    "import sys\n",
    "pscfpath='/Users/keceli/soft/matrix/QETSc/petSCF/'\n",
    "\n",
    "sys.path.insert(1,pscfpath)\n",
    "import petsctools as pt\n",
    "import slepctools as st\n",
    "import numpy as np\n",
    "import matplotlib.pylab as plt"
   ]
  },
  {
   "cell_type": "code",
   "execution_count": 2,
   "metadata": {},
   "outputs": [],
   "source": [
    "import scipy.io\n",
    "mat = scipy.io.loadmat('/Users/keceli/soft/matrix/QETSc/qetsc/matdir/Large_Connection_Matrix_100K.mat')"
   ]
  },
  {
   "cell_type": "code",
   "execution_count": 3,
   "metadata": {},
   "outputs": [
    {
     "data": {
      "text/plain": [
       "{'__header__': b'MATLAB 5.0 MAT-file, Platform: PCWIN64, Created on: Mon Aug  8 16:15:20 2022',\n",
       " '__version__': '1.0',\n",
       " '__globals__': [],\n",
       " 'ConnectEvenToOdd_out': <57186x56715 sparse matrix of type '<class 'numpy.float64'>'\n",
       " \twith 226835 stored elements in Compressed Sparse Column format>}"
      ]
     },
     "execution_count": 3,
     "metadata": {},
     "output_type": "execute_result"
    }
   ],
   "source": [
    "mat"
   ]
  },
  {
   "cell_type": "code",
   "execution_count": 4,
   "metadata": {},
   "outputs": [
    {
     "data": {
      "text/plain": [
       "scipy.sparse._csc.csc_matrix"
      ]
     },
     "execution_count": 4,
     "metadata": {},
     "output_type": "execute_result"
    }
   ],
   "source": [
    "type(mat['ConnectEvenToOdd_out'])"
   ]
  },
  {
   "cell_type": "code",
   "execution_count": 5,
   "metadata": {},
   "outputs": [],
   "source": [
    "G = mat['ConnectEvenToOdd_out']"
   ]
  },
  {
   "cell_type": "code",
   "execution_count": 6,
   "metadata": {},
   "outputs": [
    {
     "data": {
      "text/plain": [
       "array([[1., 1., 1., ..., 0., 0., 0.],\n",
       "       [1., 0., 0., ..., 0., 0., 0.],\n",
       "       [1., 1., 0., ..., 0., 0., 0.],\n",
       "       ...,\n",
       "       [0., 0., 0., ..., 0., 0., 0.],\n",
       "       [0., 0., 0., ..., 0., 0., 0.],\n",
       "       [0., 0., 0., ..., 1., 1., 1.]])"
      ]
     },
     "execution_count": 6,
     "metadata": {},
     "output_type": "execute_result"
    }
   ],
   "source": [
    "G.toarray()"
   ]
  },
  {
   "cell_type": "code",
   "execution_count": 7,
   "metadata": {},
   "outputs": [
    {
     "data": {
      "text/plain": [
       "<matplotlib.lines.Line2D at 0x14a48d3d0>"
      ]
     },
     "execution_count": 7,
     "metadata": {},
     "output_type": "execute_result"
    },
    {
     "data": {
      "image/png": "[encoded data removed]",
      "text/plain": [
       "<Figure size 432x288 with 1 Axes>"
      ]
     },
     "metadata": {
      "needs_background": "light"
     },
     "output_type": "display_data"
    }
   ],
   "source": [
    "plt.spy(G)"
   ]
  },
  {
   "cell_type": "code",
   "execution_count": 8,
   "metadata": {},
   "outputs": [],
   "source": [
    "H = scipy.sparse.bmat([[None,G],[G.transpose(),None]])"
   ]
  },
  {
   "cell_type": "code",
   "execution_count": 9,
   "metadata": {},
   "outputs": [
    {
     "data": {
      "text/plain": [
       "scipy.sparse._coo.coo_matrix"
      ]
     },
     "execution_count": 9,
     "metadata": {},
     "output_type": "execute_result"
    }
   ],
   "source": [
    "type(H)"
   ]
  },
  {
   "cell_type": "code",
   "execution_count": 10,
   "metadata": {},
   "outputs": [
    {
     "data": {
      "text/plain": [
       "<matplotlib.lines.Line2D at 0x14a5c6340>"
      ]
     },
     "execution_count": 10,
     "metadata": {},
     "output_type": "execute_result"
    },
    {
     "data": {
      "image/png": "[encoded data removed]",
      "text/plain": [
       "<Figure size 432x288 with 1 Axes>"
      ]
     },
     "metadata": {
      "needs_background": "light"
     },
     "output_type": "display_data"
    }
   ],
   "source": [
    "plt.spy(H)"
   ]
  },
  {
   "cell_type": "code",
   "execution_count": 11,
   "metadata": {},
   "outputs": [
    {
     "name": "stdout",
     "output_type": "stream",
     "text": [
      "CPU times: user 1min 15s, sys: 3.09 s, total: 1min 18s\n",
      "Wall time: 35.9 s\n"
     ]
    },
    {
     "data": {
      "text/plain": [
       "array([4.2214871])"
      ]
     },
     "execution_count": 11,
     "metadata": {},
     "output_type": "execute_result"
    }
   ],
   "source": [
    "%%time\n",
    "scipy.sparse.linalg.eigsh(H,k=1,return_eigenvectors=False)"
   ]
  },
  {
   "cell_type": "code",
   "execution_count": 12,
   "metadata": {},
   "outputs": [
    {
     "name": "stdout",
     "output_type": "stream",
     "text": [
      "CPU times: user 4.6 s, sys: 582 ms, total: 5.19 s\n",
      "Wall time: 3.19 s\n"
     ]
    },
    {
     "data": {
      "text/plain": [
       "array([4.21922645, 4.21925677, 4.21944182, 4.219787  , 4.21980109,\n",
       "       4.22001552, 4.22012188, 4.22031584, 4.2203754 , 4.22064028,\n",
       "       4.22078797, 4.22084616, 4.22117228, 4.22125213, 4.2214871 ])"
      ]
     },
     "execution_count": 12,
     "metadata": {},
     "output_type": "execute_result"
    }
   ],
   "source": [
    "%%time\n",
    "# Much faster when a shift near the largest eigenvalue is used\n",
    "scipy.sparse.linalg.eigsh(H,k=15,return_eigenvectors=False,sigma=4.23)"
   ]
  },
  {
   "cell_type": "code",
   "execution_count": 16,
   "metadata": {},
   "outputs": [
    {
     "name": "stdout",
     "output_type": "stream",
     "text": [
      "CPU times: user 56.6 s, sys: 1.37 s, total: 58 s\n",
      "Wall time: 15.9 s\n"
     ]
    },
    {
     "data": {
      "text/plain": [
       "array([-4.2214871 , -4.22125213, -4.22117228, -4.22084616, -4.22078797,\n",
       "       -4.22064028, -4.2203754 , -4.22031584, -4.22012188, -4.22001552,\n",
       "       -4.21980109, -4.219787  , -4.21944182, -4.21925677, -4.21922645,\n",
       "       -4.21907584, -4.21899719, -4.2185958 , -4.21844715, -4.21834962,\n",
       "       -4.21832422, -4.21829864, -4.21814894, -4.21779913, -4.21757486,\n",
       "       -4.21753636, -4.21747788, -4.21732035, -4.21725089, -4.21710081,\n",
       "       -4.2166952 , -4.21658444, -4.21651049, -4.21643674, -4.21615187,\n",
       "       -4.21607009, -4.21592591, -4.21580393, -4.21563276, -4.21552008,\n",
       "       -4.21541672, -4.21533634, -4.21506774, -4.21483922, -4.21467983,\n",
       "       -4.21462295, -4.21452882, -4.21440267, -4.21433573, -4.21421166,\n",
       "       -4.21409249, -4.21373725, -4.213606  , -4.21358498, -4.21339584,\n",
       "       -4.21334289, -4.21302904, -4.2129081 , -4.2128323 , -4.21276516,\n",
       "       -4.21259193, -4.21250232, -4.21236487, -4.21221192, -4.21214115,\n",
       "       -4.21193565, -4.21181524, -4.21172895, -4.21140619, -4.21135531,\n",
       "       -4.2112214 , -4.21113261, -4.21105141, -4.21093596, -4.21088517,\n",
       "       -4.2108353 , -4.21062632, -4.21054655, -4.21045528, -4.21037146,\n",
       "       -4.21017926, -4.20988973, -4.20988216, -4.20976428, -4.20966722,\n",
       "       -4.20963671, -4.20947698, -4.20894109, -4.20866869, -4.20852311,\n",
       "       -4.20829315, -4.20812721, -4.20798918, -4.2077841 , -4.20754981,\n",
       "       -4.20730024, -4.20714988, -4.20703091, -4.20692435, -4.20674795,\n",
       "       -4.20652473, -4.20646224, -4.20631499, -4.20618463, -4.20606852,\n",
       "       -4.2060136 , -4.20590809, -4.20584235, -4.20544707, -4.20536978,\n",
       "       -4.20527364, -4.2052182 , -4.20496462, -4.20491374, -4.20467823,\n",
       "       -4.2044845 , -4.20445929, -4.20427464, -4.2040504 , -4.20389467,\n",
       "       -4.20379305, -4.20363139, -4.20353529, -4.20345601, -4.20334715,\n",
       "       -4.20321527, -4.2029172 , -4.20272432, -4.20264418, -4.20251874,\n",
       "       -4.2023962 , -4.2023741 , -4.20230984, -4.20190779, -4.20176438,\n",
       "       -4.20162089, -4.20157017, -4.20139707, -4.20131091, -4.20116531,\n",
       "       -4.20112545, -4.20100251, -4.20074106, -4.20071441, -4.20047846,\n",
       "       -4.20031974, -4.20023524, -4.20014583, -4.20006756, -4.19980128])"
      ]
     },
     "execution_count": 16,
     "metadata": {},
     "output_type": "execute_result"
    }
   ],
   "source": [
    "%%time\n",
    "# Slower with more\n",
    "scipy.sparse.linalg.eigsh(H,k=150,return_eigenvectors=False,sigma=-4.23)"
   ]
  },
  {
   "cell_type": "code",
   "execution_count": 17,
   "metadata": {},
   "outputs": [
    {
     "name": "stdout",
     "output_type": "stream",
     "text": [
      "CPU times: user 4.83 s, sys: 1.4 s, total: 6.23 s\n",
      "Wall time: 3.45 s\n"
     ]
    },
    {
     "data": {
      "text/plain": [
       "(array([-2.2304935 , -2.23045697, -2.23040497, -2.23029829, -2.23025433,\n",
       "        -2.23015223, -2.23004424, -2.2299841 , -2.22994993, -2.22990611,\n",
       "        -2.22985635, -2.22967359, -2.22953293, -2.22945588, -2.2293969 ]),\n",
       " array([[ 2.16816228e-03, -2.42940320e-03,  9.54042954e-04, ...,\n",
       "          1.09166273e-04,  2.19425261e-03,  3.73140334e-03],\n",
       "        [ 2.10337152e-03,  1.24622885e-03,  1.00013150e-03, ...,\n",
       "          1.11697265e-03,  3.69936356e-03,  5.21845187e-03],\n",
       "        [ 1.59694031e-03, -1.42664926e-03,  1.21270056e-03, ...,\n",
       "         -9.77007253e-04,  5.05807706e-05, -6.75316524e-04],\n",
       "        ...,\n",
       "        [ 4.92021315e-04, -3.03841037e-03, -2.21574843e-03, ...,\n",
       "          5.81825330e-04,  3.24719766e-03, -5.04985332e-03],\n",
       "        [ 2.13963091e-03, -3.56046526e-03, -2.29681800e-03, ...,\n",
       "          1.27163200e-03, -8.90077862e-04, -2.80014153e-04],\n",
       "        [ 2.78464509e-03, -2.89821060e-03, -1.39720815e-03, ...,\n",
       "          1.63482910e-03, -5.24600752e-03,  4.44711225e-03]]))"
      ]
     },
     "execution_count": 17,
     "metadata": {},
     "output_type": "execute_result"
    }
   ],
   "source": [
    "%%time\n",
    "# We can also calculate interior eigenvalues/eigenvectors close to the shift\n",
    "scipy.sparse.linalg.eigsh(H,k=15,return_eigenvectors=True,sigma=-2.23)"
   ]
  },
  {
   "cell_type": "markdown",
   "metadata": {},
   "source": [
    "# Using PETSc and SLEPc"
   ]
  },
  {
   "cell_type": "code",
   "execution_count": 13,
   "metadata": {},
   "outputs": [
    {
     "name": "stdout",
     "output_type": "stream",
     "text": [
      "('size', (113901, 113901))\n"
     ]
    }
   ],
   "source": [
    "# Convert scipy matrix to petsc matrix\n",
    "\n",
    "H.setdiag(0.) # First explicitly set zeros for the diagonal. Otherwise SLEPc fails with an error: MUMPS in numerical factorization phase: INFOG(1)=-9\n",
    "Amat = pt.convertCSR2AIJ(H)"
   ]
  },
  {
   "cell_type": "code",
   "execution_count": 14,
   "metadata": {},
   "outputs": [
    {
     "name": "stdout",
     "output_type": "stream",
     "text": [
      "Matrix size: 113901\n",
      "CPU times: user 24.6 s, sys: 1.39 s, total: 26 s\n",
      "Wall time: 11.4 s\n"
     ]
    },
    {
     "data": {
      "text/plain": [
       "(array([4.2214871]),\n",
       " array([[-4.41282098e-03],\n",
       "        [-4.46276358e-03],\n",
       "        [-4.41289120e-03],\n",
       "        ...,\n",
       "        [-1.23034218e-05],\n",
       "        [-1.60044735e-05],\n",
       "        [-1.11539780e-05]]))"
      ]
     },
     "execution_count": 14,
     "metadata": {},
     "output_type": "execute_result"
    }
   ],
   "source": [
    "%%time\n",
    "# We can calculate the largest eigenvalue and eigenvector with SLEPc, too. Compare with scipy above.\n",
    "st.get_eigenpairs(Amat,npairs=1)"
   ]
  },
  {
   "cell_type": "code",
   "execution_count": 15,
   "metadata": {},
   "outputs": [],
   "source": [
    "# Using SIPs with SLEPc4py\n",
    "import sys, slepc4py\n",
    "from petsc4py import PETSc\n",
    "from slepc4py import SLEPc\n",
    "\n",
    "slepc4py.init(sys.argv)\n",
    "eps = SLEPc.EPS(); eps.create()\n",
    "eps.setOperators(Amat)\n",
    "eps.setFromOptions()\n",
    "eps.setProblemType(SLEPc.EPS.ProblemType.GHEP)\n",
    "eps.setInterval(2.3,4.3)\n",
    "eps.setWhichEigenpairs(SLEPc.EPS.Which.ALL)\n",
    "eps.setType(SLEPc.EPS.Type.KRYLOVSCHUR)\n",
    "st = eps.getST()\n",
    "st.setType(SLEPc.ST.Type.SINVERT)\n",
    "ksp = eps.getKrylovSchurKSP()\n",
    "ksp.setType('preonly')\n",
    "pc = ksp.getPC()\n",
    "pc.setType('cholesky')"
   ]
  },
  {
   "cell_type": "code",
   "execution_count": 16,
   "metadata": {},
   "outputs": [
    {
     "name": "stdout",
     "output_type": "stream",
     "text": [
      "Number of eigenvalues smaller than 2.3: 97343 \n",
      "Number of eigenvalues smaller than 4.3: 113901 \n",
      "Number of eigenvalues in the interval [2.3, 4.3]: 16558 \n",
      "CPU times: user 1 s, sys: 15.4 ms, total: 1.02 s\n",
      "Wall time: 1.02 s\n"
     ]
    }
   ],
   "source": [
    "%%time \n",
    "# Compute number of eigenvalues in a given interval\n",
    "# This operation requires two Cholesky factorizations at the boundaries.\n",
    "eps.setInterval(2.3,4.3)\n",
    "eps.setUp()\n",
    "interval, nevals = eps.getKrylovSchurInertias()\n",
    "print(f'Number of eigenvalues smaller than {interval[0]}: {nevals[0]} ')\n",
    "print(f'Number of eigenvalues smaller than {interval[1]}: {nevals[1]} ')\n",
    "print(f'Number of eigenvalues in the interval [{interval[0]}, {interval[1]}]: {nevals[1]-nevals[0]} ')"
   ]
  },
  {
   "cell_type": "code",
   "execution_count": 17,
   "metadata": {},
   "outputs": [
    {
     "name": "stdout",
     "output_type": "stream",
     "text": [
      "Number of eigenvalues smaller than -0.01: 51966 \n",
      "Number of eigenvalues smaller than 0.01: 61935 \n",
      "Number of eigenvalues in the interval [-0.01, 0.01]: 9969 \n"
     ]
    }
   ],
   "source": [
    "eps.setInterval(-0.01,0.01)\n",
    "eps.setUp()\n",
    "interval, nevals = eps.getKrylovSchurInertias()\n",
    "print(f'Number of eigenvalues smaller than {interval[0]}: {nevals[0]} ')\n",
    "print(f'Number of eigenvalues smaller than {interval[1]}: {nevals[1]} ')\n",
    "print(f'Number of eigenvalues in the interval [{interval[0]}, {interval[1]}]: {nevals[1]-nevals[0]} ')"
   ]
  },
  {
   "cell_type": "code",
   "execution_count": 18,
   "metadata": {},
   "outputs": [
    {
     "data": {
      "image/png": "[encoded data removed]",
      "text/plain": [
       "<Figure size 576x360 with 2 Axes>"
      ]
     },
     "metadata": {
      "needs_background": "light"
     },
     "output_type": "display_data"
    }
   ],
   "source": [
    "# I calculated the eigenvalues within [0.1, 4.25] in parallel using 36 slices.\n",
    "from matplotlib import pyplot as plt\n",
    "import numpy as np\n",
    "from scipy.stats import gaussian_kde\n",
    "\n",
    "Eig_nn = np.loadtxt('/Users/keceli/soft/matrix/QETSc/notebook/eig0-4.m')\n",
    "\n",
    "# From stackoverflow https://stackoverflow.com/questions/60091790/how-to-plot-the-density-of-states-using-histogram-with-a-curve-that-follows-the\n",
    "bins = 100\n",
    "plt.rcParams.update({'font.size': 15})\n",
    "fig, ax1 = plt.subplots(figsize=[8,5])\n",
    "bin_values, bin_lims, _patches  = plt.hist(Eig_nn, bins, color='dodgerblue')\n",
    "\n",
    "x = np.linspace(bin_lims[0]-0.2, bin_lims[-1]+0.2, 500) # create an x-axis\n",
    "kde = gaussian_kde(Eig_nn, 0.01)\n",
    "ax2 = ax1.twinx()  \n",
    "ax2.plot(x, kde(x), color='crimson')\n",
    "\n",
    "ax1.set_xlim(x[0], x[-1])  # set strict limits\n",
    "ax1.set_xlabel('Eigenvalues')\n",
    "ax1.set_ylabel('N')\n",
    "ax2.set_ylabel('kde')\n",
    "ax2.set_ylim(ymin=0) # put the zero of the secondary y-axis at the bottom\n",
    "plt.title('All eigenvalues', fontsize=20)\n",
    "\n",
    "#plt.show()\n",
    "plt.savefig('spectrum.pdf')"
   ]
  },
  {
   "cell_type": "code",
   "execution_count": null,
   "metadata": {},
   "outputs": [],
   "source": []
  }
 ],
 "metadata": {
  "kernelspec": {
   "display_name": "Python 3 (ipykernel)",
   "language": "python",
   "name": "python3"
  },
  "language_info": {
   "codemirror_mode": {
    "name": "ipython",
    "version": 3
   },
   "file_extension": ".py",
   "mimetype": "text/x-python",
   "name": "python",
   "nbconvert_exporter": "python",
   "pygments_lexer": "ipython3",
   "version": "3.8.9"
  }
 },
 "nbformat": 4,
 "nbformat_minor": 2
}
